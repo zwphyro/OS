{
 "cells": [
  {
   "cell_type": "markdown",
   "id": "b14f672f",
   "metadata": {},
   "source": [
    "# Инверсия приоритетов\n",
    "\n",
    "![](./images/priority-inversion.png)\n",
    "\n",
    "Инверсии приоритетов можно избежать, повысив приоритет захватившего ресурс процесса на время владения ресурсом, который ожидает процесс с высоким приоритетом."
   ]
  }
 ],
 "metadata": {
  "kernelspec": {
   "display_name": "Python 3 (ipykernel)",
   "language": "python",
   "name": "python3"
  },
  "language_info": {
   "codemirror_mode": {
    "name": "ipython",
    "version": 3
   },
   "file_extension": ".py",
   "mimetype": "text/x-python",
   "name": "python",
   "nbconvert_exporter": "python",
   "pygments_lexer": "ipython3",
   "version": "3.11.3"
  }
 },
 "nbformat": 4,
 "nbformat_minor": 5
}
